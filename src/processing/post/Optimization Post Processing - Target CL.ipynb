{
 "cells": [
  {
   "cell_type": "code",
   "execution_count": 1,
   "metadata": {},
   "outputs": [],
   "source": [
    "%load_ext autoreload\n",
    "%autoreload 2\n",
    "#%matplotlib tk"
   ]
  },
  {
   "cell_type": "code",
   "execution_count": 2,
   "metadata": {},
   "outputs": [],
   "source": [
    "import matplotlib.pyplot as plt\n",
    "import os\n",
    "import os.path\n",
    "import numpy as np\n",
    "import math\n",
    "import Optimization_Convergence_Plotter\n",
    "import Optimization_Shape_Plotter\n",
    "import Optimization_Gradient_Plotter"
   ]
  },
  {
   "cell_type": "markdown",
   "metadata": {},
   "source": [
    "## Setup"
   ]
  },
  {
   "cell_type": "code",
   "execution_count": 3,
   "metadata": {},
   "outputs": [],
   "source": [
    "# Absolute path to the directory with all the optimization results\n",
    "TYPE=\"MULTIPATCH\" #or \"SINGLE_PATCH\"\n",
    "N_PATCHES=1\n",
    "\n",
    "DPG_SOLVER_PATH=\"/home/vassili/Desktop/DPGSolver/DPGSolver/\"\n",
    "\n",
    "OPTIMIZATION_RESULTS_REL_PATH=\"Archived_Output/Vassili/Knot_Duplication/\"+TYPE+\"/\"\n",
    "OPTIMIZATION_RESULTS_REL_PATH=\"Archived_Output/Vassili/\"+TYPE+\"/\"\n",
    "#REPRODUCING MANMEET RESULTS\n",
    "#OPTIMIZATION_RESULTS_REL_PATH=\"Archived_Output/Vassili/Manmeet/\"\n",
    "\n",
    "\n",
    "CONST_OPTIMIZATION_DIR_ABS_PATH = DPG_SOLVER_PATH+OPTIMIZATION_RESULTS_REL_PATH\n"
   ]
  },
  {
   "cell_type": "code",
   "execution_count": 4,
   "metadata": {},
   "outputs": [],
   "source": [
    "# Absolute path to the directory to save the output files (plots)\n",
    "CONST_figure_output_directory = DPG_SOLVER_PATH+\"figs/\"\n",
    "\n",
    "def get_file_object(mesh_dims, p, nurbs_p, nctrl, colour):\n",
    "    #folder=\"NCTRL%d/M%dx%d_P%d_NURBS_P%d/\" % (nctrl,mesh_dims[0], mesh_dims[1], p, nurbs_p)\n",
    "    folder=\"NCTRL%dNPATCHES%d/M%dx%d_P%d_NURBS_P%d/\" % (nctrl,N_PATCHES,mesh_dims[0], mesh_dims[1], p, nurbs_p)\n",
    "\n",
    "    return (folder+\"ML1_P%d_Optimization_Convergence.txt\" % p, \n",
    "         folder+\"ML1_P%d_Optimized_NURBS_Patch.txt\" % p,\n",
    "         folder+\"ML1_P%d_Objective_Gradient.txt\" % p, \n",
    "         \"N_CTRL=%d, P=%d, M=%dx%d\" % (nctrl, p,mesh_dims[0], mesh_dims[1]), colour, \"-\", \".\", True)"
   ]
  },
  {
   "cell_type": "code",
   "execution_count": 5,
   "metadata": {},
   "outputs": [],
   "source": [
    "# The files to read. The first file holds the convergence data, the second holds the shape profile\n",
    "# and the third holds the gradient.\n",
    "\n",
    "\n",
    "#MESH_SET_ID=\"M21x17_MD\"\n",
    "DOF1000_MD=[[38,27], #1000 dof\n",
    "            [19,14],\n",
    "            [14,10],]\n",
    "\n",
    "DOF2000_MD=[ [53,38],\n",
    "           [28,19],\n",
    "         [18,13]]\n",
    "\n",
    "M53x38_MD=[[53,38],[53,38],[53,38]]\n",
    "M28x19_MD=[[28,19],[28,19],[28,19]]\n",
    "M21x17_MD=[[21,17], [21,17], [21,17]]\n",
    "\n",
    "P1_ML_VARY=[ [38,27], #1,2,3k dof\n",
    "                     [53,38],\n",
    "                     [65,46]]\n",
    "P2_ML_VARY=[ [19,14], #1,2,3k dof\n",
    "                     [28,19],\n",
    "                     [34,23]]\n",
    "\n",
    "P3_ML_VARY=[ [14,10], #1,2,3k dof\n",
    "                     [18,13],\n",
    "                     [23,16]]\n",
    "DOF2000_MD=[ [53,38],\n",
    "           [28,19],\n",
    "         [18,13]]\n",
    "\n",
    "\n",
    "NCTRL=11\n",
    "MESH_SET_ID=\"M21x17_MD\"\n",
    "MESH_DIMS=eval(MESH_SET_ID)\n",
    "FIG_ID=\"NCTRL_\"+str(NCTRL)+MESH_SET_ID\n",
    "ML1=get_file_object(mesh_dims=MESH_DIMS[0], p=1, nurbs_p=3, nctrl=NCTRL, colour='r')\n",
    "ML2=get_file_object(mesh_dims=MESH_DIMS[1], p=2, nurbs_p=3, nctrl=NCTRL, colour='g')\n",
    "ML3=get_file_object(mesh_dims=MESH_DIMS[2], p=3, nurbs_p=3,nctrl=NCTRL, colour='b')\n",
    "\n",
    "\n",
    "MESH_SET_ID=\"DOF2000_MD\"\n",
    "NCTRL=11\n",
    "MESH_DIMS=eval(MESH_SET_ID)\n",
    "FIG_ID=\"Dup_Knot_NCTRL_\"+str(NCTRL)+MESH_SET_ID\n",
    "ML1=get_file_object(mesh_dims=MESH_DIMS[0], p=1, nurbs_p=3, nctrl=NCTRL, colour='r')\n",
    "ML2=get_file_object(mesh_dims=MESH_DIMS[1], p=2, nurbs_p=3, nctrl=NCTRL, colour='g')\n",
    "ML3=get_file_object(mesh_dims=MESH_DIMS[2], p=3, nurbs_p=3,nctrl=NCTRL, colour='b')\n",
    "\n",
    "MESH_SET_ID=\"Mesh10x10\"\n",
    "NCTRL=11\n",
    "MESH_DIMS=[[10,10]]\n",
    "FIG_ID=\"NCTRL_\"+str(NCTRL)+MESH_SET_ID\n",
    "ML1=get_file_object(mesh_dims=MESH_DIMS[0], p=1, nurbs_p=3, nctrl=NCTRL, colour='r')\n",
    "\"\"\"\n",
    "#VARY ORDER P/ mesh size, keep constant # dof                  \n",
    "NCTRL=11\n",
    "MESH_SET_ID=\"DOF2000_MD\"\n",
    "MESH_DIMS=eval(MESH_SET_ID)\n",
    "FIG_ID=\"NCTRL_\"+str(NCTRL)+MESH_SET_ID\n",
    "ML1=get_file_object(mesh_dims=MESH_DIMS[0], p=1, nurbs_p=3, nctrl=NCTRL, colour='r')\n",
    "ML2=get_file_object(mesh_dims=MESH_DIMS[1], p=2, nurbs_p=3, nctrl=NCTRL, colour='g')\n",
    "ML3=get_file_object(mesh_dims=MESH_DIMS[2], p=3, nurbs_p=3, nctrl=NCTRL, colour='b')\n",
    "          \n",
    "#VARY MESH SIZE               \n",
    "NCTRL=15\n",
    "P=2\n",
    "MESH_SET_ID=\"P\"+str(P)+\"_ML_VARY\"\n",
    "MESH_DIMS=eval(MESH_SET_ID)\n",
    "FIG_ID=\"NCTRL_\"+str(NCTRL)+MESH_SET_ID\n",
    "ML1=get_file_object(mesh_dims=MESH_DIMS[0], p=P, nurbs_p=3, nctrl=NCTRL, colour='r')\n",
    "ML2=get_file_object(mesh_dims=MESH_DIMS[1], p=P, nurbs_p=3, nctrl=NCTRL, colour='g')\n",
    "ML3=get_file_object(mesh_dims=MESH_DIMS[2], p=P, nurbs_p=3, nctrl=NCTRL, colour='b')\n",
    "\n",
    "#SET NURBS ORDER P\n",
    "NCTRL=11\n",
    "NURBS_P=4\n",
    "MESH_SET_ID=\"DOF1000_MD\"\n",
    "MESH_DIMS=eval(MESH_SET_ID)\n",
    "FIG_ID=\"NURBS_P\"+str(NURBS_P)+\"_NCTRL_\"+str(NCTRL)+MESH_SET_ID\n",
    "ML1=get_file_object(mesh_dims=MESH_DIMS[0], p=1, nurbs_p=NURBS_P, nctrl=NCTRL, colour='r')\n",
    "ML2=get_file_object(mesh_dims=MESH_DIMS[1], p=2, nurbs_p=NURBS_P, nctrl=NCTRL, colour='g')\n",
    "ML3=get_file_object(mesh_dims=MESH_DIMS[2], p=3, nurbs_p=NURBS_P, nctrl=NCTRL, colour='b')\n",
    "\n",
    "#VAR NUMBER CONTROL POINTS ORDER P\n",
    "NURBS_P=3\n",
    "MESH_SET_ID=\"M53x38_MD\"\n",
    "P=1\n",
    "MESH_SET_ID=\"M28x19_MD\"\n",
    "P=2\n",
    "MESH_DIMS=eval(MESH_SET_ID)\n",
    "FIG_ID=\"NURBS_P\"+str(NURBS_P)+\"_NCTRL_\"+\"VARY_\"+MESH_SET_ID\n",
    "ML1=get_file_object(mesh_dims=MESH_DIMS[0], p=P, nurbs_p=NURBS_P, nctrl=11, colour='r')\n",
    "ML2=get_file_object(mesh_dims=MESH_DIMS[1], p=P, nurbs_p=NURBS_P, nctrl=13, colour='g')\n",
    "ML3=get_file_object(mesh_dims=MESH_DIMS[2], p=P, nurbs_p=NURBS_P, nctrl=15, colour='b')\n",
    "\"\"\"\n",
    "CONST_File_list = [\n",
    "    ML1, \n",
    "    ML2, \n",
    "    ML3\n",
    "]\n"
   ]
  },
  {
   "cell_type": "markdown",
   "metadata": {},
   "source": [
    "## Convergence Plots\n",
    "The following consists of plots of the convergence of the cost function and its gradient's L2 norm as \n",
    "a function of design iterations and CPU time. Additional plots that are optionally included are the \n",
    "convergence of the lift coefficient and pitching moment."
   ]
  },
  {
   "cell_type": "code",
   "execution_count": 6,
   "metadata": {},
   "outputs": [
    {
     "ename": "FileNotFoundError",
     "evalue": "[Errno 2] No such file or directory: '/home/vassili/Desktop/DPGSolver/DPGSolver/Archived_Output/Vassili/MULTIPATCH/NCTRL11NPATCHES1/M10x10_P1_NURBS_P3/ML1_P1_Optimization_Convergence.txt'",
     "output_type": "error",
     "traceback": [
      "\u001b[0;31m---------------------------------------------------------------------------\u001b[0m",
      "\u001b[0;31mFileNotFoundError\u001b[0m                         Traceback (most recent call last)",
      "\u001b[0;32m<ipython-input-6-5593b50e7b4b>\u001b[0m in \u001b[0;36m<module>\u001b[0;34m()\u001b[0m\n\u001b[1;32m      3\u001b[0m \u001b[0;32mfor\u001b[0m \u001b[0mdata_tuple\u001b[0m \u001b[0;32min\u001b[0m \u001b[0mCONST_File_list\u001b[0m\u001b[0;34m:\u001b[0m\u001b[0;34m\u001b[0m\u001b[0;34m\u001b[0m\u001b[0m\n\u001b[1;32m      4\u001b[0m     \u001b[0mconvergence_file_abs_path\u001b[0m \u001b[0;34m=\u001b[0m \u001b[0mos\u001b[0m\u001b[0;34m.\u001b[0m\u001b[0mpath\u001b[0m\u001b[0;34m.\u001b[0m\u001b[0mjoin\u001b[0m\u001b[0;34m(\u001b[0m\u001b[0mCONST_OPTIMIZATION_DIR_ABS_PATH\u001b[0m\u001b[0;34m,\u001b[0m \u001b[0mdata_tuple\u001b[0m\u001b[0;34m[\u001b[0m\u001b[0;36m0\u001b[0m\u001b[0;34m]\u001b[0m\u001b[0;34m)\u001b[0m\u001b[0;34m\u001b[0m\u001b[0;34m\u001b[0m\u001b[0m\n\u001b[0;32m----> 5\u001b[0;31m     \u001b[0mconv_data\u001b[0m \u001b[0;34m=\u001b[0m \u001b[0mOptimization_Convergence_Plotter\u001b[0m\u001b[0;34m.\u001b[0m\u001b[0mread_convergence_file\u001b[0m\u001b[0;34m(\u001b[0m\u001b[0mconvergence_file_abs_path\u001b[0m\u001b[0;34m)\u001b[0m\u001b[0;34m\u001b[0m\u001b[0;34m\u001b[0m\u001b[0m\n\u001b[0m\u001b[1;32m      6\u001b[0m \u001b[0;34m\u001b[0m\u001b[0m\n\u001b[1;32m      7\u001b[0m     \u001b[0mfile_convergence_data\u001b[0m\u001b[0;34m.\u001b[0m\u001b[0mappend\u001b[0m\u001b[0;34m(\u001b[0m\u001b[0mconv_data\u001b[0m\u001b[0;34m)\u001b[0m\u001b[0;34m\u001b[0m\u001b[0;34m\u001b[0m\u001b[0m\n",
      "\u001b[0;32m~/Desktop/DPGSolver/DPGSolver/src/processing/post/Optimization_Convergence_Plotter.py\u001b[0m in \u001b[0;36mread_convergence_file\u001b[0;34m(file_abs_path)\u001b[0m\n\u001b[1;32m     27\u001b[0m         \u001b[0mconv_data_dictionary\u001b[0m \u001b[0;34m=\u001b[0m \u001b[0;34m{\u001b[0m\u001b[0;34m}\u001b[0m\u001b[0;34m\u001b[0m\u001b[0;34m\u001b[0m\u001b[0m\n\u001b[1;32m     28\u001b[0m \u001b[0;34m\u001b[0m\u001b[0m\n\u001b[0;32m---> 29\u001b[0;31m         \u001b[0;32mwith\u001b[0m \u001b[0mopen\u001b[0m\u001b[0;34m(\u001b[0m\u001b[0mfile_abs_path\u001b[0m\u001b[0;34m,\u001b[0m \u001b[0;34m\"r\"\u001b[0m\u001b[0;34m)\u001b[0m \u001b[0;32mas\u001b[0m \u001b[0mfp\u001b[0m\u001b[0;34m:\u001b[0m\u001b[0;34m\u001b[0m\u001b[0;34m\u001b[0m\u001b[0m\n\u001b[0m\u001b[1;32m     30\u001b[0m \u001b[0;34m\u001b[0m\u001b[0m\n\u001b[1;32m     31\u001b[0m                 \u001b[0;31m# The header strings (they are separated by spaces)\u001b[0m\u001b[0;34m\u001b[0m\u001b[0;34m\u001b[0m\u001b[0;34m\u001b[0m\u001b[0m\n",
      "\u001b[0;31mFileNotFoundError\u001b[0m: [Errno 2] No such file or directory: '/home/vassili/Desktop/DPGSolver/DPGSolver/Archived_Output/Vassili/MULTIPATCH/NCTRL11NPATCHES1/M10x10_P1_NURBS_P3/ML1_P1_Optimization_Convergence.txt'"
     ]
    }
   ],
   "source": [
    "file_convergence_data = []\n",
    "\n",
    "for data_tuple in CONST_File_list:\n",
    "    convergence_file_abs_path = os.path.join(CONST_OPTIMIZATION_DIR_ABS_PATH, data_tuple[0])\n",
    "    conv_data = Optimization_Convergence_Plotter.read_convergence_file(convergence_file_abs_path)\n",
    "\n",
    "    file_convergence_data.append(conv_data)"
   ]
  },
  {
   "cell_type": "markdown",
   "metadata": {},
   "source": [
    "### Cost Function vs. Design Iterations and CPU Time"
   ]
  },
  {
   "cell_type": "code",
   "execution_count": null,
   "metadata": {
    "scrolled": false
   },
   "outputs": [],
   "source": [
    "\n",
    "# log(Objective) Convergence vs. Iteration\n",
    "plt.figure(1)\n",
    "Optimization_Convergence_Plotter.add_convergence_plot(CONST_File_list, file_convergence_data, \"Design_Iteration\", \n",
    "                                                      \"Cost_Function\", True)\n",
    "#plt.savefig(os.path.join(CONST_figure_output_directory, \"cost_vs_iteration_Pall.pdf\"))\n",
    "\n",
    "# log(Objective) Convergence vs. CPU time\n",
    "plt.figure(2)\n",
    "Optimization_Convergence_Plotter.add_convergence_plot(CONST_File_list, file_convergence_data, \"CPU_Time(s)\", \n",
    "                                                      \"Cost_Function\", True)\n"
   ]
  },
  {
   "cell_type": "markdown",
   "metadata": {},
   "source": [
    "### Gradient of Cost Function L2 Norm vs Design Iterations and CPU Time"
   ]
  },
  {
   "cell_type": "code",
   "execution_count": null,
   "metadata": {},
   "outputs": [],
   "source": [
    "# log(Gradient) Convergence vs. Iteration\n",
    "plt.figure(1)\n",
    "Optimization_Convergence_Plotter.add_convergence_plot(CONST_File_list, file_convergence_data, \"Design_Iteration\", \n",
    "                                                      \"L2_Norm_Gradient_Cost_Function\", True)\n",
    "#plt.savefig(os.path.join(CONST_figure_output_directory, \"grad_vs_iteration_Pall.pdf\"))\n",
    "\n",
    "# log(Gradient) Convergence vs. CPU time\n",
    "plt.figure(2)\n",
    "Optimization_Convergence_Plotter.add_convergence_plot(CONST_File_list, file_convergence_data, \"CPU_Time(s)\", \n",
    "                                                      \"L2_Norm_Gradient_Cost_Function\", True)\n",
    "\n"
   ]
  },
  {
   "cell_type": "markdown",
   "metadata": {},
   "source": [
    "### Lift Coefficient vs Design Iterations and CPU Time"
   ]
  },
  {
   "cell_type": "code",
   "execution_count": null,
   "metadata": {},
   "outputs": [],
   "source": [
    "# CL Convergence vs. Iteration\n",
    "plt.figure(1)\n",
    "Optimization_Convergence_Plotter.add_convergence_plot(CONST_File_list, file_convergence_data, \"Design_Iteration\", \n",
    "                                                      \"cl\")\n",
    "#plt.savefig(os.path.join(CONST_figure_output_directory, \"grad_vs_iteration_Pall.pdf\"))\n",
    "\n",
    "# CL Convergence vs. CPU time\n",
    "plt.figure(2)\n",
    "Optimization_Convergence_Plotter.add_convergence_plot(CONST_File_list, file_convergence_data, \"CPU_Time(s)\", \n",
    "                                                      \"cl\")"
   ]
  },
  {
   "cell_type": "markdown",
   "metadata": {},
   "source": [
    "### Pitching Moment Coefficient vs Design Iterations and CPU Time"
   ]
  },
  {
   "cell_type": "code",
   "execution_count": null,
   "metadata": {},
   "outputs": [],
   "source": [
    "# CM Convergence vs. Iteration\n",
    "plt.figure(1)\n",
    "Optimization_Convergence_Plotter.add_convergence_plot(CONST_File_list, file_convergence_data, \"Design_Iteration\", \n",
    "                                                      \"cm\")\n",
    "#plt.savefig(os.path.join(CONST_figure_output_directory, \"grad_vs_iteration_Pall.pdf\"))\n",
    "\n",
    "# CM Convergence vs. CPU time\n",
    "plt.figure(2)\n",
    "Optimization_Convergence_Plotter.add_convergence_plot(CONST_File_list, file_convergence_data, \"CPU_Time(s)\", \n",
    "                                                      \"cm\")"
   ]
  },
  {
   "cell_type": "markdown",
   "metadata": {},
   "source": [
    "## Shape Plots\n",
    "Plots of the initial and final optimized airfoil"
   ]
  },
  {
   "cell_type": "markdown",
   "metadata": {},
   "source": [
    "### Setup"
   ]
  },
  {
   "cell_type": "code",
   "execution_count": null,
   "metadata": {},
   "outputs": [],
   "source": [
    "\n",
    "# Additional files to plot shapes for (for instance, this may store the reference shapes \n",
    "# for the optimization). Note that some file names will be None in order to mimic the file format\n",
    "# from CONST_File_list.\n",
    "\n",
    "# To get the initial airfoil profile, check the control file and look to see what geometry file (.geo) file was run\n",
    "\n",
    "CONST_Additional_File_list = [\n",
    "    (None, DPG_SOLVER_PATH+\"input/input_files/euler/steady/NURBS_Airfoil/geometry_parameters_NACA0012_targetCL_tests_reference.geo\", None, \"Initial Profile\", \"k\", \"--\", \".\", False), # Initial Airfoil\n",
    "]\n"
   ]
  },
  {
   "cell_type": "code",
   "execution_count": null,
   "metadata": {},
   "outputs": [],
   "source": [
    "# Plot Range (to use for the Airfoil case)\n",
    "CONST_PLOT_X_RANGE = [-0.65, 0.65]\n",
    "CONST_PLOT_Y_RANGE = [-0.125, 0.125]\n"
   ]
  },
  {
   "cell_type": "code",
   "execution_count": null,
   "metadata": {},
   "outputs": [],
   "source": [
    "# The points (on the knot domain) to plot\n",
    "CONST_Airfoil_NURBS_Domain_pts = []\n",
    "t_vals = np.linspace(-1., 1., 100)\n",
    "for t in t_vals:\n",
    "    CONST_Airfoil_NURBS_Domain_pts.append((t, -1.))\n",
    "    "
   ]
  },
  {
   "cell_type": "code",
   "execution_count": null,
   "metadata": {},
   "outputs": [],
   "source": [
    "# Load the file patch data (which describes the geometry)\n",
    "file_patch_data = []\n",
    "\n",
    "for data_tuple in CONST_File_list:\n",
    "\n",
    "    file_abs_path = os.path.join(CONST_OPTIMIZATION_DIR_ABS_PATH, data_tuple[1])\n",
    "    patch_info = Optimization_Shape_Plotter.read_Patch_file(file_abs_path)\n",
    "\n",
    "    file_patch_data.append(patch_info)\n",
    "    "
   ]
  },
  {
   "cell_type": "code",
   "execution_count": null,
   "metadata": {},
   "outputs": [],
   "source": [
    "# Load the additional file patch data\n",
    "file_additional_patch_data = []\n",
    "\n",
    "for data_tuple in CONST_Additional_File_list:\n",
    "\n",
    "    file_abs_path = os.path.join(CONST_OPTIMIZATION_DIR_ABS_PATH, data_tuple[1])\n",
    "    patch_info = Optimization_Shape_Plotter.read_Patch_file(file_abs_path)\n",
    "\n",
    "    file_additional_patch_data.append(patch_info)\n",
    "    "
   ]
  },
  {
   "cell_type": "markdown",
   "metadata": {},
   "source": [
    "### Geometry Plots"
   ]
  },
  {
   "cell_type": "code",
   "execution_count": null,
   "metadata": {
    "scrolled": false
   },
   "outputs": [],
   "source": [
    "\n",
    "# Plot the geometry\n",
    "plt.figure(figsize=(8, 5))\n",
    "\n",
    "# Plot some additional reference profiles\n",
    "for case_index in range(len(CONST_Additional_File_list)):\n",
    "    \n",
    "    # Get the patch information\n",
    "    patch_data = file_additional_patch_data[case_index]\n",
    "    case_data_tuple = CONST_Additional_File_list[case_index]\n",
    "    Optimization_Shape_Plotter.plot_patch_points(patch_data, case_data_tuple, CONST_Airfoil_NURBS_Domain_pts)\n",
    "\n",
    "    \n",
    "# Plot the optimized geometries\n",
    "for case_index in range(len(CONST_File_list)):\n",
    "    \n",
    "    # Get the patch information\n",
    "    patch_data = file_patch_data[case_index]\n",
    "    case_data_tuple = CONST_File_list[case_index]\n",
    "    Optimization_Shape_Plotter.plot_patch_points(patch_data, case_data_tuple, CONST_Airfoil_NURBS_Domain_pts)\n",
    "\n",
    "    \n",
    "plt.legend(prop={'size':13}, loc='lower right')\n",
    "plt.grid()\n",
    "\n",
    "plt.gca().set_xlim(CONST_PLOT_X_RANGE)\n",
    "plt.gca().set_ylim(CONST_PLOT_Y_RANGE)\n",
    "\n",
    "#plt.axis(\"equal\")\n",
    "plt.gca().set_ylim([-0.1,0.1])\n",
    "plt.gca().set_xlim([-0.6,0.6])\n",
    "print(os.path.join(CONST_figure_output_directory, FIG_ID+'.pdf'))\n",
    "plt.savefig(os.path.join(CONST_figure_output_directory, FIG_ID+'.pdf'), layout='tight')"
   ]
  }
 ],
 "metadata": {
  "kernelspec": {
   "display_name": "Python 3",
   "language": "python",
   "name": "python3"
  },
  "language_info": {
   "codemirror_mode": {
    "name": "ipython",
    "version": 3
   },
   "file_extension": ".py",
   "mimetype": "text/x-python",
   "name": "python",
   "nbconvert_exporter": "python",
   "pygments_lexer": "ipython3",
   "version": "3.7.2"
  },
  "toc": {
   "base_numbering": 1,
   "nav_menu": {},
   "number_sections": true,
   "sideBar": true,
   "skip_h1_title": false,
   "title_cell": "Table of Contents",
   "title_sidebar": "Contents",
   "toc_cell": false,
   "toc_position": {},
   "toc_section_display": true,
   "toc_window_display": false
  }
 },
 "nbformat": 4,
 "nbformat_minor": 2
}
